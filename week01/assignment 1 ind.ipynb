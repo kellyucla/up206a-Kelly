{
 "cells": [
  {
   "cell_type": "markdown",
   "id": "c560e6a0-0504-4d78-82ca-a281f5d53f78",
   "metadata": {},
   "source": [
    "# Introduction"
   ]
  },
  {
   "cell_type": "markdown",
   "id": "710a4202-4e4a-4445-bc6c-69a52b41e38c",
   "metadata": {},
   "source": [
    "This notebook details the drain conveyence system in San Diego. Using this data, we can determine where maintenance has been done or is needed to handle floods from stormwater."
   ]
  },
  {
   "cell_type": "code",
   "execution_count": 25,
   "id": "87b425bf-6224-4ccd-aa61-8fe3c800c4ab",
   "metadata": {},
   "outputs": [],
   "source": [
    "import geopandas as gpd\n",
    "import matplotlib.pyplot as plt"
   ]
  },
  {
   "cell_type": "markdown",
   "id": "b8be3059-faeb-4c9d-af2c-184c71a5363a",
   "metadata": {},
   "source": [
    "# Data Exploration"
   ]
  },
  {
   "cell_type": "markdown",
   "id": "cfce5546-33d7-449b-9ff9-d386858447cb",
   "metadata": {},
   "source": [
    "Step 1:Import geopandas so that it can read my shapefile."
   ]
  },
  {
   "cell_type": "markdown",
   "id": "f653c8d2-bbaa-4cb6-9ab3-7105ea778520",
   "metadata": {},
   "source": [
    "Step 2: Importing my shapefile"
   ]
  },
  {
   "cell_type": "code",
   "execution_count": 7,
   "id": "e49d8b7e-24ee-47be-b484-c3f02efd432a",
   "metadata": {},
   "outputs": [],
   "source": [
    "drain = gpd.read_file('../data/Drain_Conveyance.zip')"
   ]
  },
  {
   "cell_type": "code",
   "execution_count": 6,
   "id": "fb9a47c4-53d0-43d1-9ecf-fd80bad0c53f",
   "metadata": {},
   "outputs": [
    {
     "name": "stdout",
     "output_type": "stream",
     "text": [
      "/home/jovyan/up206a-Kelly/week01\n"
     ]
    }
   ],
   "source": [
    "import os\n",
    "print(os.getcwd())"
   ]
  },
  {
   "cell_type": "markdown",
   "id": "2c8547b4-a769-4d22-b9e3-d0bbc89d89ac",
   "metadata": {},
   "source": [
    "Step 3: I will now run the code to see how many rows and columns I have."
   ]
  },
  {
   "cell_type": "code",
   "execution_count": 10,
   "id": "08917f3e-b90f-4b8d-b875-f1f026429a08",
   "metadata": {},
   "outputs": [
    {
     "data": {
      "text/plain": [
       "(48463, 36)"
      ]
     },
     "execution_count": 10,
     "metadata": {},
     "output_type": "execute_result"
    }
   ],
   "source": [
    "drain.shape"
   ]
  },
  {
   "cell_type": "markdown",
   "id": "c68cd526-2187-4f87-be10-02330556f48f",
   "metadata": {},
   "source": [
    "This tells me that I have 48,463 rows and 36 columns."
   ]
  },
  {
   "cell_type": "markdown",
   "id": "e7a430ef-55ae-49c2-9477-0d9e06574f68",
   "metadata": {},
   "source": [
    "Step 4: Next, we want more information about our dataset."
   ]
  },
  {
   "cell_type": "code",
   "execution_count": 20,
   "id": "a2a5d7b8-5863-42a0-9360-028380e87823",
   "metadata": {},
   "outputs": [
    {
     "data": {
      "text/plain": [
       "['OBJECTID',\n",
       " 'DRAIN',\n",
       " 'GISID',\n",
       " 'EQPID',\n",
       " 'SAPID',\n",
       " 'FNODE_',\n",
       " 'TNODE_',\n",
       " 'CODE',\n",
       " 'DIAMETER',\n",
       " 'WIDTH',\n",
       " 'HEIGHT',\n",
       " 'ACT_LENGTH',\n",
       " 'MATERIAL',\n",
       " 'CONV_SHP',\n",
       " 'FROM_ELEV',\n",
       " 'TO_ELEV',\n",
       " 'LINED',\n",
       " 'SLOPE',\n",
       " 'ERA',\n",
       " 'EASEMENT',\n",
       " 'INSTALL_YE',\n",
       " 'ASBUILT_DA',\n",
       " 'DRAWING_NO',\n",
       " 'EASEMENT_D',\n",
       " 'SUBDIVISIO',\n",
       " 'WORK_ORDER',\n",
       " 'STATUS',\n",
       " 'COMMENTS',\n",
       " 'OWNER',\n",
       " 'MAINT',\n",
       " 'ROUGHNESS',\n",
       " 'NAME',\n",
       " 'LOC_DESC',\n",
       " 'WATERSHED',\n",
       " 'SHAPE_Leng',\n",
       " 'geometry']"
      ]
     },
     "execution_count": 20,
     "metadata": {},
     "output_type": "execute_result"
    }
   ],
   "source": [
    "drain.columns.to_list()"
   ]
  },
  {
   "cell_type": "markdown",
   "id": "619feaba-851d-4fcf-9d46-de6684988391",
   "metadata": {},
   "source": [
    "This tells me the columns in the dataset."
   ]
  },
  {
   "cell_type": "code",
   "execution_count": 13,
   "id": "d27f4c64-e867-4d9b-bb8f-441bb6e35e22",
   "metadata": {},
   "outputs": [
    {
     "data": {
      "text/plain": [
       "geopandas.geodataframe.GeoDataFrame"
      ]
     },
     "execution_count": 13,
     "metadata": {},
     "output_type": "execute_result"
    }
   ],
   "source": [
    "type(drain)"
   ]
  },
  {
   "cell_type": "markdown",
   "id": "7cee613f-bf33-4a61-98c4-f50fb13b4b06",
   "metadata": {},
   "source": [
    "This tells me the data type."
   ]
  },
  {
   "cell_type": "code",
   "execution_count": 15,
   "id": "9718ab3f-a800-40b2-9bfc-12f77a25176b",
   "metadata": {},
   "outputs": [
    {
     "name": "stdout",
     "output_type": "stream",
     "text": [
      "<class 'geopandas.geodataframe.GeoDataFrame'>\n",
      "RangeIndex: 48463 entries, 0 to 48462\n",
      "Data columns (total 36 columns):\n",
      " #   Column      Non-Null Count  Dtype   \n",
      "---  ------      --------------  -----   \n",
      " 0   OBJECTID    48463 non-null  int64   \n",
      " 1   DRAIN       48463 non-null  int64   \n",
      " 2   GISID       48462 non-null  object  \n",
      " 3   EQPID       48462 non-null  object  \n",
      " 4   SAPID       48463 non-null  object  \n",
      " 5   FNODE_      48463 non-null  int64   \n",
      " 6   TNODE_      48463 non-null  int64   \n",
      " 7   CODE        48462 non-null  object  \n",
      " 8   DIAMETER    48463 non-null  float64 \n",
      " 9   WIDTH       48463 non-null  float64 \n",
      " 10  HEIGHT      48463 non-null  float64 \n",
      " 11  ACT_LENGTH  48463 non-null  float64 \n",
      " 12  MATERIAL    48462 non-null  object  \n",
      " 13  CONV_SHP    48462 non-null  object  \n",
      " 14  FROM_ELEV   48463 non-null  float64 \n",
      " 15  TO_ELEV     48463 non-null  float64 \n",
      " 16  LINED       47159 non-null  object  \n",
      " 17  SLOPE       48463 non-null  float64 \n",
      " 18  ERA         2310 non-null   object  \n",
      " 19  EASEMENT    1193 non-null   object  \n",
      " 20  INSTALL_YE  26454 non-null  object  \n",
      " 21  ASBUILT_DA  9370 non-null   object  \n",
      " 22  DRAWING_NO  46957 non-null  object  \n",
      " 23  EASEMENT_D  1046 non-null   object  \n",
      " 24  SUBDIVISIO  0 non-null      object  \n",
      " 25  WORK_ORDER  23461 non-null  object  \n",
      " 26  STATUS      48462 non-null  object  \n",
      " 27  COMMENTS    872 non-null    object  \n",
      " 28  OWNER       48462 non-null  object  \n",
      " 29  MAINT       48462 non-null  object  \n",
      " 30  ROUGHNESS   48463 non-null  float64 \n",
      " 31  NAME        365 non-null    object  \n",
      " 32  LOC_DESC    48463 non-null  object  \n",
      " 33  WATERSHED   48463 non-null  int64   \n",
      " 34  SHAPE_Leng  48463 non-null  float64 \n",
      " 35  geometry    48462 non-null  geometry\n",
      "dtypes: float64(9), geometry(1), int64(5), object(21)\n",
      "memory usage: 13.3+ MB\n"
     ]
    }
   ],
   "source": [
    "drain.info()"
   ]
  },
  {
   "cell_type": "markdown",
   "id": "6bf8ce18-3c00-4c29-9124-7b97e3fcc59b",
   "metadata": {},
   "source": [
    "This tells me that the types of data range from string, integers, and floats. "
   ]
  },
  {
   "cell_type": "markdown",
   "id": "33e49792-2e54-469f-acb1-24aa8eeb6b03",
   "metadata": {},
   "source": [
    "Step 5: Now I will generate information for the first 5 rows of data."
   ]
  },
  {
   "cell_type": "code",
   "execution_count": 16,
   "id": "ff15c83e-51fa-4c63-a2f7-b18e0589b054",
   "metadata": {},
   "outputs": [
    {
     "data": {
      "text/html": [
       "<div>\n",
       "<style scoped>\n",
       "    .dataframe tbody tr th:only-of-type {\n",
       "        vertical-align: middle;\n",
       "    }\n",
       "\n",
       "    .dataframe tbody tr th {\n",
       "        vertical-align: top;\n",
       "    }\n",
       "\n",
       "    .dataframe thead th {\n",
       "        text-align: right;\n",
       "    }\n",
       "</style>\n",
       "<table border=\"1\" class=\"dataframe\">\n",
       "  <thead>\n",
       "    <tr style=\"text-align: right;\">\n",
       "      <th></th>\n",
       "      <th>OBJECTID</th>\n",
       "      <th>DRAIN</th>\n",
       "      <th>GISID</th>\n",
       "      <th>EQPID</th>\n",
       "      <th>SAPID</th>\n",
       "      <th>FNODE_</th>\n",
       "      <th>TNODE_</th>\n",
       "      <th>CODE</th>\n",
       "      <th>DIAMETER</th>\n",
       "      <th>WIDTH</th>\n",
       "      <th>...</th>\n",
       "      <th>STATUS</th>\n",
       "      <th>COMMENTS</th>\n",
       "      <th>OWNER</th>\n",
       "      <th>MAINT</th>\n",
       "      <th>ROUGHNESS</th>\n",
       "      <th>NAME</th>\n",
       "      <th>LOC_DESC</th>\n",
       "      <th>WATERSHED</th>\n",
       "      <th>SHAPE_Leng</th>\n",
       "      <th>geometry</th>\n",
       "    </tr>\n",
       "  </thead>\n",
       "  <tbody>\n",
       "    <tr>\n",
       "      <th>0</th>\n",
       "      <td>1</td>\n",
       "      <td>47982</td>\n",
       "      <td>DC047982</td>\n",
       "      <td>88026638</td>\n",
       "      <td>SS-017808</td>\n",
       "      <td>7541</td>\n",
       "      <td>7542</td>\n",
       "      <td>X</td>\n",
       "      <td>0.0</td>\n",
       "      <td>36.0</td>\n",
       "      <td>...</td>\n",
       "      <td>A</td>\n",
       "      <td>None</td>\n",
       "      <td>S</td>\n",
       "      <td>6</td>\n",
       "      <td>0.0</td>\n",
       "      <td>None</td>\n",
       "      <td>FROM CLEANOUT TO CLEANOUT VIA BOX</td>\n",
       "      <td>2</td>\n",
       "      <td>56.419546</td>\n",
       "      <td>LINESTRING (6295577.489 1910525.813, 6295572.1...</td>\n",
       "    </tr>\n",
       "    <tr>\n",
       "      <th>1</th>\n",
       "      <td>2</td>\n",
       "      <td>43647</td>\n",
       "      <td>DC043647</td>\n",
       "      <td>88033125</td>\n",
       "      <td>SS-015380</td>\n",
       "      <td>25699</td>\n",
       "      <td>25672</td>\n",
       "      <td>D</td>\n",
       "      <td>12.0</td>\n",
       "      <td>0.0</td>\n",
       "      <td>...</td>\n",
       "      <td>A</td>\n",
       "      <td>None</td>\n",
       "      <td>S</td>\n",
       "      <td>6</td>\n",
       "      <td>0.0</td>\n",
       "      <td>None</td>\n",
       "      <td>FROM INLET TO INLET VIA PIPE</td>\n",
       "      <td>4</td>\n",
       "      <td>37.206045</td>\n",
       "      <td>LINESTRING (6267767.764 1855281.133, 6267775.4...</td>\n",
       "    </tr>\n",
       "    <tr>\n",
       "      <th>2</th>\n",
       "      <td>3</td>\n",
       "      <td>47983</td>\n",
       "      <td>DC047983</td>\n",
       "      <td>88032186</td>\n",
       "      <td>SS-015380</td>\n",
       "      <td>25699</td>\n",
       "      <td>25672</td>\n",
       "      <td>D</td>\n",
       "      <td>12.0</td>\n",
       "      <td>0.0</td>\n",
       "      <td>...</td>\n",
       "      <td>A</td>\n",
       "      <td>None</td>\n",
       "      <td>S</td>\n",
       "      <td>6</td>\n",
       "      <td>0.0</td>\n",
       "      <td>None</td>\n",
       "      <td>FROM INLET TO INLET VIA PIPE</td>\n",
       "      <td>4</td>\n",
       "      <td>36.858819</td>\n",
       "      <td>LINESTRING (6267767.764 1855281.133, 6267766.6...</td>\n",
       "    </tr>\n",
       "    <tr>\n",
       "      <th>3</th>\n",
       "      <td>4</td>\n",
       "      <td>47984</td>\n",
       "      <td>DC047984</td>\n",
       "      <td>88032187</td>\n",
       "      <td>SS-028157</td>\n",
       "      <td>26843</td>\n",
       "      <td>26844</td>\n",
       "      <td>D</td>\n",
       "      <td>8.0</td>\n",
       "      <td>0.0</td>\n",
       "      <td>...</td>\n",
       "      <td>A</td>\n",
       "      <td>None</td>\n",
       "      <td>S</td>\n",
       "      <td>6</td>\n",
       "      <td>0.0</td>\n",
       "      <td>None</td>\n",
       "      <td>FROM INLET TO CONNECT VIA PIPE</td>\n",
       "      <td>3</td>\n",
       "      <td>48.349789</td>\n",
       "      <td>LINESTRING (6293886.072 1853481.927, 6293889.3...</td>\n",
       "    </tr>\n",
       "    <tr>\n",
       "      <th>4</th>\n",
       "      <td>5</td>\n",
       "      <td>47985</td>\n",
       "      <td>DC047985</td>\n",
       "      <td>88027570</td>\n",
       "      <td>SS-028157</td>\n",
       "      <td>26843</td>\n",
       "      <td>26844</td>\n",
       "      <td>D</td>\n",
       "      <td>8.0</td>\n",
       "      <td>0.0</td>\n",
       "      <td>...</td>\n",
       "      <td>A</td>\n",
       "      <td>None</td>\n",
       "      <td>S</td>\n",
       "      <td>6</td>\n",
       "      <td>0.0</td>\n",
       "      <td>None</td>\n",
       "      <td>FROM INLET TO CONNECT VIA PIPE</td>\n",
       "      <td>3</td>\n",
       "      <td>48.034176</td>\n",
       "      <td>LINESTRING (6293886.072 1853481.927, 6293884.9...</td>\n",
       "    </tr>\n",
       "  </tbody>\n",
       "</table>\n",
       "<p>5 rows × 36 columns</p>\n",
       "</div>"
      ],
      "text/plain": [
       "   OBJECTID  DRAIN     GISID     EQPID      SAPID  FNODE_  TNODE_ CODE  \\\n",
       "0         1  47982  DC047982  88026638  SS-017808    7541    7542    X   \n",
       "1         2  43647  DC043647  88033125  SS-015380   25699   25672    D   \n",
       "2         3  47983  DC047983  88032186  SS-015380   25699   25672    D   \n",
       "3         4  47984  DC047984  88032187  SS-028157   26843   26844    D   \n",
       "4         5  47985  DC047985  88027570  SS-028157   26843   26844    D   \n",
       "\n",
       "   DIAMETER  WIDTH  ...  STATUS  COMMENTS OWNER MAINT  ROUGHNESS  NAME  \\\n",
       "0       0.0   36.0  ...       A      None     S     6        0.0  None   \n",
       "1      12.0    0.0  ...       A      None     S     6        0.0  None   \n",
       "2      12.0    0.0  ...       A      None     S     6        0.0  None   \n",
       "3       8.0    0.0  ...       A      None     S     6        0.0  None   \n",
       "4       8.0    0.0  ...       A      None     S     6        0.0  None   \n",
       "\n",
       "                            LOC_DESC  WATERSHED SHAPE_Leng  \\\n",
       "0  FROM CLEANOUT TO CLEANOUT VIA BOX          2  56.419546   \n",
       "1       FROM INLET TO INLET VIA PIPE          4  37.206045   \n",
       "2       FROM INLET TO INLET VIA PIPE          4  36.858819   \n",
       "3     FROM INLET TO CONNECT VIA PIPE          3  48.349789   \n",
       "4     FROM INLET TO CONNECT VIA PIPE          3  48.034176   \n",
       "\n",
       "                                            geometry  \n",
       "0  LINESTRING (6295577.489 1910525.813, 6295572.1...  \n",
       "1  LINESTRING (6267767.764 1855281.133, 6267775.4...  \n",
       "2  LINESTRING (6267767.764 1855281.133, 6267766.6...  \n",
       "3  LINESTRING (6293886.072 1853481.927, 6293889.3...  \n",
       "4  LINESTRING (6293886.072 1853481.927, 6293884.9...  \n",
       "\n",
       "[5 rows x 36 columns]"
      ]
     },
     "execution_count": 16,
     "metadata": {},
     "output_type": "execute_result"
    }
   ],
   "source": [
    "drain.head()"
   ]
  },
  {
   "cell_type": "markdown",
   "id": "ba605bac-3192-4d19-b72e-2462da1264d6",
   "metadata": {},
   "source": [
    "This tells me detailed information for the first 5 rows."
   ]
  },
  {
   "cell_type": "markdown",
   "id": "62e433a3-7655-4adc-9e1f-995303dba7e5",
   "metadata": {},
   "source": [
    "Step 6: Value Count- I want to know how many drain pipes are there for each watersheds."
   ]
  },
  {
   "cell_type": "code",
   "execution_count": 37,
   "id": "65066aa1-a3f1-442c-bba5-531c81adc80c",
   "metadata": {},
   "outputs": [
    {
     "data": {
      "text/plain": [
       "2    21900\n",
       "3    12318\n",
       "4     7669\n",
       "5     4122\n",
       "6     2453\n",
       "0        1\n",
       "Name: WATERSHED, dtype: int64"
      ]
     },
     "execution_count": 37,
     "metadata": {},
     "output_type": "execute_result"
    }
   ],
   "source": [
    "drain['WATERSHED'].value_counts()"
   ]
  },
  {
   "cell_type": "markdown",
   "id": "d4a022f8-d4ba-4947-9884-73320992050c",
   "metadata": {},
   "source": [
    "This generated the count of drains for each watershed."
   ]
  },
  {
   "cell_type": "code",
   "execution_count": 42,
   "id": "9e2533a7-4c53-4610-8890-a101ac9635e3",
   "metadata": {},
   "outputs": [
    {
     "data": {
      "text/plain": [
       "2    21900\n",
       "3    12318\n",
       "4     7669\n",
       "5     4122\n",
       "6     2453\n",
       "0        1\n",
       "Name: WATERSHED, dtype: int64"
      ]
     },
     "execution_count": 42,
     "metadata": {},
     "output_type": "execute_result"
    }
   ],
   "source": [
    "watershed_count = drain['WATERSHED'].value_counts()\n",
    "watershed_count"
   ]
  },
  {
   "cell_type": "markdown",
   "id": "5f756503-a904-47e8-850a-416e4399fcb1",
   "metadata": {},
   "source": [
    "I saved the watershed count as a variable."
   ]
  },
  {
   "cell_type": "code",
   "execution_count": 43,
   "id": "a818d5cd-213d-4e9c-9f6e-2c03a5cfcbfa",
   "metadata": {},
   "outputs": [
    {
     "data": {
      "text/html": [
       "<div>\n",
       "<style scoped>\n",
       "    .dataframe tbody tr th:only-of-type {\n",
       "        vertical-align: middle;\n",
       "    }\n",
       "\n",
       "    .dataframe tbody tr th {\n",
       "        vertical-align: top;\n",
       "    }\n",
       "\n",
       "    .dataframe thead th {\n",
       "        text-align: right;\n",
       "    }\n",
       "</style>\n",
       "<table border=\"1\" class=\"dataframe\">\n",
       "  <thead>\n",
       "    <tr style=\"text-align: right;\">\n",
       "      <th></th>\n",
       "      <th>index</th>\n",
       "      <th>WATERSHED</th>\n",
       "    </tr>\n",
       "  </thead>\n",
       "  <tbody>\n",
       "    <tr>\n",
       "      <th>0</th>\n",
       "      <td>2</td>\n",
       "      <td>21900</td>\n",
       "    </tr>\n",
       "    <tr>\n",
       "      <th>1</th>\n",
       "      <td>3</td>\n",
       "      <td>12318</td>\n",
       "    </tr>\n",
       "    <tr>\n",
       "      <th>2</th>\n",
       "      <td>4</td>\n",
       "      <td>7669</td>\n",
       "    </tr>\n",
       "    <tr>\n",
       "      <th>3</th>\n",
       "      <td>5</td>\n",
       "      <td>4122</td>\n",
       "    </tr>\n",
       "    <tr>\n",
       "      <th>4</th>\n",
       "      <td>6</td>\n",
       "      <td>2453</td>\n",
       "    </tr>\n",
       "    <tr>\n",
       "      <th>5</th>\n",
       "      <td>0</td>\n",
       "      <td>1</td>\n",
       "    </tr>\n",
       "  </tbody>\n",
       "</table>\n",
       "</div>"
      ],
      "text/plain": [
       "   index  WATERSHED\n",
       "0      2      21900\n",
       "1      3      12318\n",
       "2      4       7669\n",
       "3      5       4122\n",
       "4      6       2453\n",
       "5      0          1"
      ]
     },
     "execution_count": 43,
     "metadata": {},
     "output_type": "execute_result"
    }
   ],
   "source": [
    "watershed_count = watershed_count.reset_index()\n",
    "watershed_count"
   ]
  },
  {
   "cell_type": "markdown",
   "id": "cb86d857-f006-455a-8a1e-fc94a05ff465",
   "metadata": {},
   "source": [
    "I have converted it into a dataframe."
   ]
  },
  {
   "cell_type": "code",
   "execution_count": 44,
   "id": "95e492bf-e0ba-4dd7-acda-b601f0ba4bf8",
   "metadata": {},
   "outputs": [],
   "source": [
    "watershed_count.columns = ['Watershed', 'Count']"
   ]
  },
  {
   "cell_type": "code",
   "execution_count": null,
   "id": "98a7a350-47c9-4a4a-b673-e4c4545418b8",
   "metadata": {},
   "outputs": [],
   "source": [
    "Here, I renamed the columns."
   ]
  },
  {
   "cell_type": "code",
   "execution_count": 45,
   "id": "5908f50b-2e7a-47f3-a372-3497a6e0daf8",
   "metadata": {},
   "outputs": [
    {
     "data": {
      "text/html": [
       "<div>\n",
       "<style scoped>\n",
       "    .dataframe tbody tr th:only-of-type {\n",
       "        vertical-align: middle;\n",
       "    }\n",
       "\n",
       "    .dataframe tbody tr th {\n",
       "        vertical-align: top;\n",
       "    }\n",
       "\n",
       "    .dataframe thead th {\n",
       "        text-align: right;\n",
       "    }\n",
       "</style>\n",
       "<table border=\"1\" class=\"dataframe\">\n",
       "  <thead>\n",
       "    <tr style=\"text-align: right;\">\n",
       "      <th></th>\n",
       "      <th>Watershed</th>\n",
       "      <th>Count</th>\n",
       "    </tr>\n",
       "  </thead>\n",
       "  <tbody>\n",
       "    <tr>\n",
       "      <th>0</th>\n",
       "      <td>2</td>\n",
       "      <td>21900</td>\n",
       "    </tr>\n",
       "    <tr>\n",
       "      <th>1</th>\n",
       "      <td>3</td>\n",
       "      <td>12318</td>\n",
       "    </tr>\n",
       "    <tr>\n",
       "      <th>2</th>\n",
       "      <td>4</td>\n",
       "      <td>7669</td>\n",
       "    </tr>\n",
       "    <tr>\n",
       "      <th>3</th>\n",
       "      <td>5</td>\n",
       "      <td>4122</td>\n",
       "    </tr>\n",
       "    <tr>\n",
       "      <th>4</th>\n",
       "      <td>6</td>\n",
       "      <td>2453</td>\n",
       "    </tr>\n",
       "    <tr>\n",
       "      <th>5</th>\n",
       "      <td>0</td>\n",
       "      <td>1</td>\n",
       "    </tr>\n",
       "  </tbody>\n",
       "</table>\n",
       "</div>"
      ],
      "text/plain": [
       "   Watershed  Count\n",
       "0          2  21900\n",
       "1          3  12318\n",
       "2          4   7669\n",
       "3          5   4122\n",
       "4          6   2453\n",
       "5          0      1"
      ]
     },
     "execution_count": 45,
     "metadata": {},
     "output_type": "execute_result"
    }
   ],
   "source": [
    "watershed_count"
   ]
  },
  {
   "cell_type": "markdown",
   "id": "246844ac-33fd-4158-aaf1-97b882b8df0d",
   "metadata": {},
   "source": [
    "Step 7: Plotting the Data"
   ]
  },
  {
   "cell_type": "code",
   "execution_count": 51,
   "id": "48e9952a-f9ec-4ad3-9364-445a966788b1",
   "metadata": {},
   "outputs": [
    {
     "data": {
      "text/plain": [
       "<AxesSubplot:title={'center':'Number of Drains to Watershed'}, xlabel='Watershed'>"
      ]
     },
     "execution_count": 51,
     "metadata": {},
     "output_type": "execute_result"
    },
    {
     "data": {
      "image/png": "[encoded data removed]",
      "text/plain": [
       "<Figure size 432x288 with 1 Axes>"
      ]
     },
     "metadata": {
      "needs_background": "light"
     },
     "output_type": "display_data"
    }
   ],
   "source": [
    "watershed_count.plot.bar(x = 'Watershed', y = 'Count', title ='Number of Drains to Watershed')"
   ]
  },
  {
   "cell_type": "markdown",
   "id": "b4bf7d22-6377-4f23-85e8-1f17c727dca1",
   "metadata": {},
   "source": [
    "Here is a plot of the number of drains to watershed."
   ]
  },
  {
   "cell_type": "code",
   "execution_count": 52,
   "id": "a1cf13ab-0fbc-47fc-a93a-e4e28cc205d3",
   "metadata": {},
   "outputs": [
    {
     "name": "stdout",
     "output_type": "stream",
     "text": [
      "<class 'geopandas.geodataframe.GeoDataFrame'>\n",
      "RangeIndex: 48463 entries, 0 to 48462\n",
      "Data columns (total 36 columns):\n",
      " #   Column      Non-Null Count  Dtype   \n",
      "---  ------      --------------  -----   \n",
      " 0   OBJECTID    48463 non-null  int64   \n",
      " 1   DRAIN       48463 non-null  int64   \n",
      " 2   GISID       48462 non-null  object  \n",
      " 3   EQPID       48462 non-null  object  \n",
      " 4   SAPID       48463 non-null  object  \n",
      " 5   FNODE_      48463 non-null  int64   \n",
      " 6   TNODE_      48463 non-null  int64   \n",
      " 7   CODE        48462 non-null  object  \n",
      " 8   DIAMETER    48463 non-null  float64 \n",
      " 9   WIDTH       48463 non-null  float64 \n",
      " 10  HEIGHT      48463 non-null  float64 \n",
      " 11  ACT_LENGTH  48463 non-null  float64 \n",
      " 12  MATERIAL    48462 non-null  object  \n",
      " 13  CONV_SHP    48462 non-null  object  \n",
      " 14  FROM_ELEV   48463 non-null  float64 \n",
      " 15  TO_ELEV     48463 non-null  float64 \n",
      " 16  LINED       47159 non-null  object  \n",
      " 17  SLOPE       48463 non-null  float64 \n",
      " 18  ERA         2310 non-null   object  \n",
      " 19  EASEMENT    1193 non-null   object  \n",
      " 20  INSTALL_YE  26454 non-null  object  \n",
      " 21  ASBUILT_DA  9370 non-null   object  \n",
      " 22  DRAWING_NO  46957 non-null  object  \n",
      " 23  EASEMENT_D  1046 non-null   object  \n",
      " 24  SUBDIVISIO  0 non-null      object  \n",
      " 25  WORK_ORDER  23461 non-null  object  \n",
      " 26  STATUS      48462 non-null  object  \n",
      " 27  COMMENTS    872 non-null    object  \n",
      " 28  OWNER       48462 non-null  object  \n",
      " 29  MAINT       48462 non-null  object  \n",
      " 30  ROUGHNESS   48463 non-null  float64 \n",
      " 31  NAME        365 non-null    object  \n",
      " 32  LOC_DESC    48463 non-null  object  \n",
      " 33  WATERSHED   48463 non-null  int64   \n",
      " 34  SHAPE_Leng  48463 non-null  float64 \n",
      " 35  geometry    48462 non-null  geometry\n",
      "dtypes: float64(9), geometry(1), int64(5), object(21)\n",
      "memory usage: 13.3+ MB\n"
     ]
    }
   ],
   "source": [
    "drain.info()"
   ]
  },
  {
   "cell_type": "code",
   "execution_count": 58,
   "id": "1707c12c-a831-4791-a2d9-204e68f1fa87",
   "metadata": {},
   "outputs": [
    {
     "data": {
      "text/html": [
       "<div>\n",
       "<style scoped>\n",
       "    .dataframe tbody tr th:only-of-type {\n",
       "        vertical-align: middle;\n",
       "    }\n",
       "\n",
       "    .dataframe tbody tr th {\n",
       "        vertical-align: top;\n",
       "    }\n",
       "\n",
       "    .dataframe thead th {\n",
       "        text-align: right;\n",
       "    }\n",
       "</style>\n",
       "<table border=\"1\" class=\"dataframe\">\n",
       "  <thead>\n",
       "    <tr style=\"text-align: right;\">\n",
       "      <th></th>\n",
       "      <th>NAME</th>\n",
       "      <th>STATUS</th>\n",
       "      <th>WORK_ORDER</th>\n",
       "      <th>SLOPE</th>\n",
       "      <th>MATERIAL</th>\n",
       "      <th>WATERSHED</th>\n",
       "    </tr>\n",
       "  </thead>\n",
       "  <tbody>\n",
       "    <tr>\n",
       "      <th>0</th>\n",
       "      <td>None</td>\n",
       "      <td>A</td>\n",
       "      <td>None</td>\n",
       "      <td>0.0</td>\n",
       "      <td>RC</td>\n",
       "      <td>2</td>\n",
       "    </tr>\n",
       "    <tr>\n",
       "      <th>1</th>\n",
       "      <td>None</td>\n",
       "      <td>A</td>\n",
       "      <td>None</td>\n",
       "      <td>0.0</td>\n",
       "      <td>RCP</td>\n",
       "      <td>4</td>\n",
       "    </tr>\n",
       "    <tr>\n",
       "      <th>2</th>\n",
       "      <td>None</td>\n",
       "      <td>A</td>\n",
       "      <td>None</td>\n",
       "      <td>0.0</td>\n",
       "      <td>RCP</td>\n",
       "      <td>4</td>\n",
       "    </tr>\n",
       "    <tr>\n",
       "      <th>3</th>\n",
       "      <td>None</td>\n",
       "      <td>A</td>\n",
       "      <td>None</td>\n",
       "      <td>0.0</td>\n",
       "      <td>CMP</td>\n",
       "      <td>3</td>\n",
       "    </tr>\n",
       "    <tr>\n",
       "      <th>4</th>\n",
       "      <td>None</td>\n",
       "      <td>A</td>\n",
       "      <td>None</td>\n",
       "      <td>0.0</td>\n",
       "      <td>CMP</td>\n",
       "      <td>3</td>\n",
       "    </tr>\n",
       "    <tr>\n",
       "      <th>...</th>\n",
       "      <td>...</td>\n",
       "      <td>...</td>\n",
       "      <td>...</td>\n",
       "      <td>...</td>\n",
       "      <td>...</td>\n",
       "      <td>...</td>\n",
       "    </tr>\n",
       "    <tr>\n",
       "      <th>48458</th>\n",
       "      <td>SMYTHE CHANNEL</td>\n",
       "      <td>A</td>\n",
       "      <td>None</td>\n",
       "      <td>0.0</td>\n",
       "      <td>CONC</td>\n",
       "      <td>6</td>\n",
       "    </tr>\n",
       "    <tr>\n",
       "      <th>48459</th>\n",
       "      <td>SMYTHE CHANNEL</td>\n",
       "      <td>A</td>\n",
       "      <td>None</td>\n",
       "      <td>0.0</td>\n",
       "      <td>CONC</td>\n",
       "      <td>6</td>\n",
       "    </tr>\n",
       "    <tr>\n",
       "      <th>48460</th>\n",
       "      <td>SMYTHE CHANNEL</td>\n",
       "      <td>A</td>\n",
       "      <td>None</td>\n",
       "      <td>0.0</td>\n",
       "      <td>CONC</td>\n",
       "      <td>6</td>\n",
       "    </tr>\n",
       "    <tr>\n",
       "      <th>48461</th>\n",
       "      <td>SMYTHE CHANNEL</td>\n",
       "      <td>A</td>\n",
       "      <td>None</td>\n",
       "      <td>0.0</td>\n",
       "      <td>CONC</td>\n",
       "      <td>6</td>\n",
       "    </tr>\n",
       "    <tr>\n",
       "      <th>48462</th>\n",
       "      <td>None</td>\n",
       "      <td>None</td>\n",
       "      <td>None</td>\n",
       "      <td>0.0</td>\n",
       "      <td>None</td>\n",
       "      <td>0</td>\n",
       "    </tr>\n",
       "  </tbody>\n",
       "</table>\n",
       "<p>48463 rows × 6 columns</p>\n",
       "</div>"
      ],
      "text/plain": [
       "                 NAME STATUS WORK_ORDER  SLOPE MATERIAL  WATERSHED\n",
       "0                None      A       None    0.0       RC          2\n",
       "1                None      A       None    0.0      RCP          4\n",
       "2                None      A       None    0.0      RCP          4\n",
       "3                None      A       None    0.0      CMP          3\n",
       "4                None      A       None    0.0      CMP          3\n",
       "...               ...    ...        ...    ...      ...        ...\n",
       "48458  SMYTHE CHANNEL      A       None    0.0     CONC          6\n",
       "48459  SMYTHE CHANNEL      A       None    0.0     CONC          6\n",
       "48460  SMYTHE CHANNEL      A       None    0.0     CONC          6\n",
       "48461  SMYTHE CHANNEL      A       None    0.0     CONC          6\n",
       "48462            None   None       None    0.0     None          0\n",
       "\n",
       "[48463 rows x 6 columns]"
      ]
     },
     "execution_count": 58,
     "metadata": {},
     "output_type": "execute_result"
    }
   ],
   "source": [
    "Desired_columns = ['NAME', 'STATUS', 'WORK_ORDER', 'SLOPE', 'MATERIAL', 'WATERSHED']\n",
    "drain[Desired_columns]"
   ]
  },
  {
   "cell_type": "markdown",
   "id": "2a1db12e-a93c-4519-a507-37c8d504f6a9",
   "metadata": {},
   "source": [
    "This is a dataframe with a subset of columns. There are 48,463 rows and 6 columns."
   ]
  },
  {
   "cell_type": "code",
   "execution_count": 59,
   "id": "73c871a6-0e4d-4162-957e-5cb22d0da86b",
   "metadata": {},
   "outputs": [
    {
     "data": {
      "text/html": [
       "<div>\n",
       "<style scoped>\n",
       "    .dataframe tbody tr th:only-of-type {\n",
       "        vertical-align: middle;\n",
       "    }\n",
       "\n",
       "    .dataframe tbody tr th {\n",
       "        vertical-align: top;\n",
       "    }\n",
       "\n",
       "    .dataframe thead th {\n",
       "        text-align: right;\n",
       "    }\n",
       "</style>\n",
       "<table border=\"1\" class=\"dataframe\">\n",
       "  <thead>\n",
       "    <tr style=\"text-align: right;\">\n",
       "      <th></th>\n",
       "      <th>OBJECTID</th>\n",
       "      <th>DRAIN</th>\n",
       "      <th>GISID</th>\n",
       "      <th>EQPID</th>\n",
       "      <th>SAPID</th>\n",
       "      <th>FNODE_</th>\n",
       "      <th>TNODE_</th>\n",
       "      <th>CODE</th>\n",
       "      <th>DIAMETER</th>\n",
       "      <th>WIDTH</th>\n",
       "      <th>...</th>\n",
       "      <th>STATUS</th>\n",
       "      <th>COMMENTS</th>\n",
       "      <th>OWNER</th>\n",
       "      <th>MAINT</th>\n",
       "      <th>ROUGHNESS</th>\n",
       "      <th>NAME</th>\n",
       "      <th>LOC_DESC</th>\n",
       "      <th>WATERSHED</th>\n",
       "      <th>SHAPE_Leng</th>\n",
       "      <th>geometry</th>\n",
       "    </tr>\n",
       "  </thead>\n",
       "  <tbody>\n",
       "    <tr>\n",
       "      <th>0</th>\n",
       "      <td>1</td>\n",
       "      <td>47982</td>\n",
       "      <td>DC047982</td>\n",
       "      <td>88026638</td>\n",
       "      <td>SS-017808</td>\n",
       "      <td>7541</td>\n",
       "      <td>7542</td>\n",
       "      <td>X</td>\n",
       "      <td>0.0</td>\n",
       "      <td>36.0</td>\n",
       "      <td>...</td>\n",
       "      <td>A</td>\n",
       "      <td>None</td>\n",
       "      <td>S</td>\n",
       "      <td>6</td>\n",
       "      <td>0.0</td>\n",
       "      <td>None</td>\n",
       "      <td>FROM CLEANOUT TO CLEANOUT VIA BOX</td>\n",
       "      <td>2</td>\n",
       "      <td>56.419546</td>\n",
       "      <td>LINESTRING (6295577.489 1910525.813, 6295572.1...</td>\n",
       "    </tr>\n",
       "    <tr>\n",
       "      <th>1</th>\n",
       "      <td>2</td>\n",
       "      <td>43647</td>\n",
       "      <td>DC043647</td>\n",
       "      <td>88033125</td>\n",
       "      <td>SS-015380</td>\n",
       "      <td>25699</td>\n",
       "      <td>25672</td>\n",
       "      <td>D</td>\n",
       "      <td>12.0</td>\n",
       "      <td>0.0</td>\n",
       "      <td>...</td>\n",
       "      <td>A</td>\n",
       "      <td>None</td>\n",
       "      <td>S</td>\n",
       "      <td>6</td>\n",
       "      <td>0.0</td>\n",
       "      <td>None</td>\n",
       "      <td>FROM INLET TO INLET VIA PIPE</td>\n",
       "      <td>4</td>\n",
       "      <td>37.206045</td>\n",
       "      <td>LINESTRING (6267767.764 1855281.133, 6267775.4...</td>\n",
       "    </tr>\n",
       "    <tr>\n",
       "      <th>2</th>\n",
       "      <td>3</td>\n",
       "      <td>47983</td>\n",
       "      <td>DC047983</td>\n",
       "      <td>88032186</td>\n",
       "      <td>SS-015380</td>\n",
       "      <td>25699</td>\n",
       "      <td>25672</td>\n",
       "      <td>D</td>\n",
       "      <td>12.0</td>\n",
       "      <td>0.0</td>\n",
       "      <td>...</td>\n",
       "      <td>A</td>\n",
       "      <td>None</td>\n",
       "      <td>S</td>\n",
       "      <td>6</td>\n",
       "      <td>0.0</td>\n",
       "      <td>None</td>\n",
       "      <td>FROM INLET TO INLET VIA PIPE</td>\n",
       "      <td>4</td>\n",
       "      <td>36.858819</td>\n",
       "      <td>LINESTRING (6267767.764 1855281.133, 6267766.6...</td>\n",
       "    </tr>\n",
       "    <tr>\n",
       "      <th>3</th>\n",
       "      <td>4</td>\n",
       "      <td>47984</td>\n",
       "      <td>DC047984</td>\n",
       "      <td>88032187</td>\n",
       "      <td>SS-028157</td>\n",
       "      <td>26843</td>\n",
       "      <td>26844</td>\n",
       "      <td>D</td>\n",
       "      <td>8.0</td>\n",
       "      <td>0.0</td>\n",
       "      <td>...</td>\n",
       "      <td>A</td>\n",
       "      <td>None</td>\n",
       "      <td>S</td>\n",
       "      <td>6</td>\n",
       "      <td>0.0</td>\n",
       "      <td>None</td>\n",
       "      <td>FROM INLET TO CONNECT VIA PIPE</td>\n",
       "      <td>3</td>\n",
       "      <td>48.349789</td>\n",
       "      <td>LINESTRING (6293886.072 1853481.927, 6293889.3...</td>\n",
       "    </tr>\n",
       "    <tr>\n",
       "      <th>4</th>\n",
       "      <td>5</td>\n",
       "      <td>47985</td>\n",
       "      <td>DC047985</td>\n",
       "      <td>88027570</td>\n",
       "      <td>SS-028157</td>\n",
       "      <td>26843</td>\n",
       "      <td>26844</td>\n",
       "      <td>D</td>\n",
       "      <td>8.0</td>\n",
       "      <td>0.0</td>\n",
       "      <td>...</td>\n",
       "      <td>A</td>\n",
       "      <td>None</td>\n",
       "      <td>S</td>\n",
       "      <td>6</td>\n",
       "      <td>0.0</td>\n",
       "      <td>None</td>\n",
       "      <td>FROM INLET TO CONNECT VIA PIPE</td>\n",
       "      <td>3</td>\n",
       "      <td>48.034176</td>\n",
       "      <td>LINESTRING (6293886.072 1853481.927, 6293884.9...</td>\n",
       "    </tr>\n",
       "  </tbody>\n",
       "</table>\n",
       "<p>5 rows × 36 columns</p>\n",
       "</div>"
      ],
      "text/plain": [
       "   OBJECTID  DRAIN     GISID     EQPID      SAPID  FNODE_  TNODE_ CODE  \\\n",
       "0         1  47982  DC047982  88026638  SS-017808    7541    7542    X   \n",
       "1         2  43647  DC043647  88033125  SS-015380   25699   25672    D   \n",
       "2         3  47983  DC047983  88032186  SS-015380   25699   25672    D   \n",
       "3         4  47984  DC047984  88032187  SS-028157   26843   26844    D   \n",
       "4         5  47985  DC047985  88027570  SS-028157   26843   26844    D   \n",
       "\n",
       "   DIAMETER  WIDTH  ...  STATUS  COMMENTS OWNER MAINT  ROUGHNESS  NAME  \\\n",
       "0       0.0   36.0  ...       A      None     S     6        0.0  None   \n",
       "1      12.0    0.0  ...       A      None     S     6        0.0  None   \n",
       "2      12.0    0.0  ...       A      None     S     6        0.0  None   \n",
       "3       8.0    0.0  ...       A      None     S     6        0.0  None   \n",
       "4       8.0    0.0  ...       A      None     S     6        0.0  None   \n",
       "\n",
       "                            LOC_DESC  WATERSHED SHAPE_Leng  \\\n",
       "0  FROM CLEANOUT TO CLEANOUT VIA BOX          2  56.419546   \n",
       "1       FROM INLET TO INLET VIA PIPE          4  37.206045   \n",
       "2       FROM INLET TO INLET VIA PIPE          4  36.858819   \n",
       "3     FROM INLET TO CONNECT VIA PIPE          3  48.349789   \n",
       "4     FROM INLET TO CONNECT VIA PIPE          3  48.034176   \n",
       "\n",
       "                                            geometry  \n",
       "0  LINESTRING (6295577.489 1910525.813, 6295572.1...  \n",
       "1  LINESTRING (6267767.764 1855281.133, 6267775.4...  \n",
       "2  LINESTRING (6267767.764 1855281.133, 6267766.6...  \n",
       "3  LINESTRING (6293886.072 1853481.927, 6293889.3...  \n",
       "4  LINESTRING (6293886.072 1853481.927, 6293884.9...  \n",
       "\n",
       "[5 rows x 36 columns]"
      ]
     },
     "execution_count": 59,
     "metadata": {},
     "output_type": "execute_result"
    }
   ],
   "source": [
    "drain.head()"
   ]
  },
  {
   "cell_type": "code",
   "execution_count": 61,
   "id": "31bb0a18-2061-4b2b-8942-9b19c569c174",
   "metadata": {},
   "outputs": [
    {
     "data": {
      "text/html": [
       "<div>\n",
       "<style scoped>\n",
       "    .dataframe tbody tr th:only-of-type {\n",
       "        vertical-align: middle;\n",
       "    }\n",
       "\n",
       "    .dataframe tbody tr th {\n",
       "        vertical-align: top;\n",
       "    }\n",
       "\n",
       "    .dataframe thead th {\n",
       "        text-align: right;\n",
       "    }\n",
       "</style>\n",
       "<table border=\"1\" class=\"dataframe\">\n",
       "  <thead>\n",
       "    <tr style=\"text-align: right;\">\n",
       "      <th></th>\n",
       "      <th>NAME</th>\n",
       "      <th>STATUS</th>\n",
       "      <th>WORK_ORDER</th>\n",
       "      <th>SLOPE</th>\n",
       "      <th>MATERIAL</th>\n",
       "      <th>WATERSHED</th>\n",
       "    </tr>\n",
       "  </thead>\n",
       "  <tbody>\n",
       "    <tr>\n",
       "      <th>0</th>\n",
       "      <td>None</td>\n",
       "      <td>A</td>\n",
       "      <td>None</td>\n",
       "      <td>0.0</td>\n",
       "      <td>RC</td>\n",
       "      <td>2</td>\n",
       "    </tr>\n",
       "    <tr>\n",
       "      <th>1</th>\n",
       "      <td>None</td>\n",
       "      <td>A</td>\n",
       "      <td>None</td>\n",
       "      <td>0.0</td>\n",
       "      <td>RCP</td>\n",
       "      <td>4</td>\n",
       "    </tr>\n",
       "    <tr>\n",
       "      <th>2</th>\n",
       "      <td>None</td>\n",
       "      <td>A</td>\n",
       "      <td>None</td>\n",
       "      <td>0.0</td>\n",
       "      <td>RCP</td>\n",
       "      <td>4</td>\n",
       "    </tr>\n",
       "    <tr>\n",
       "      <th>3</th>\n",
       "      <td>None</td>\n",
       "      <td>A</td>\n",
       "      <td>None</td>\n",
       "      <td>0.0</td>\n",
       "      <td>CMP</td>\n",
       "      <td>3</td>\n",
       "    </tr>\n",
       "    <tr>\n",
       "      <th>4</th>\n",
       "      <td>None</td>\n",
       "      <td>A</td>\n",
       "      <td>None</td>\n",
       "      <td>0.0</td>\n",
       "      <td>CMP</td>\n",
       "      <td>3</td>\n",
       "    </tr>\n",
       "    <tr>\n",
       "      <th>...</th>\n",
       "      <td>...</td>\n",
       "      <td>...</td>\n",
       "      <td>...</td>\n",
       "      <td>...</td>\n",
       "      <td>...</td>\n",
       "      <td>...</td>\n",
       "    </tr>\n",
       "    <tr>\n",
       "      <th>48458</th>\n",
       "      <td>SMYTHE CHANNEL</td>\n",
       "      <td>A</td>\n",
       "      <td>None</td>\n",
       "      <td>0.0</td>\n",
       "      <td>CONC</td>\n",
       "      <td>6</td>\n",
       "    </tr>\n",
       "    <tr>\n",
       "      <th>48459</th>\n",
       "      <td>SMYTHE CHANNEL</td>\n",
       "      <td>A</td>\n",
       "      <td>None</td>\n",
       "      <td>0.0</td>\n",
       "      <td>CONC</td>\n",
       "      <td>6</td>\n",
       "    </tr>\n",
       "    <tr>\n",
       "      <th>48460</th>\n",
       "      <td>SMYTHE CHANNEL</td>\n",
       "      <td>A</td>\n",
       "      <td>None</td>\n",
       "      <td>0.0</td>\n",
       "      <td>CONC</td>\n",
       "      <td>6</td>\n",
       "    </tr>\n",
       "    <tr>\n",
       "      <th>48461</th>\n",
       "      <td>SMYTHE CHANNEL</td>\n",
       "      <td>A</td>\n",
       "      <td>None</td>\n",
       "      <td>0.0</td>\n",
       "      <td>CONC</td>\n",
       "      <td>6</td>\n",
       "    </tr>\n",
       "    <tr>\n",
       "      <th>48462</th>\n",
       "      <td>None</td>\n",
       "      <td>None</td>\n",
       "      <td>None</td>\n",
       "      <td>0.0</td>\n",
       "      <td>None</td>\n",
       "      <td>0</td>\n",
       "    </tr>\n",
       "  </tbody>\n",
       "</table>\n",
       "<p>48463 rows × 6 columns</p>\n",
       "</div>"
      ],
      "text/plain": [
       "                 NAME STATUS WORK_ORDER  SLOPE MATERIAL  WATERSHED\n",
       "0                None      A       None    0.0       RC          2\n",
       "1                None      A       None    0.0      RCP          4\n",
       "2                None      A       None    0.0      RCP          4\n",
       "3                None      A       None    0.0      CMP          3\n",
       "4                None      A       None    0.0      CMP          3\n",
       "...               ...    ...        ...    ...      ...        ...\n",
       "48458  SMYTHE CHANNEL      A       None    0.0     CONC          6\n",
       "48459  SMYTHE CHANNEL      A       None    0.0     CONC          6\n",
       "48460  SMYTHE CHANNEL      A       None    0.0     CONC          6\n",
       "48461  SMYTHE CHANNEL      A       None    0.0     CONC          6\n",
       "48462            None   None       None    0.0     None          0\n",
       "\n",
       "[48463 rows x 6 columns]"
      ]
     },
     "execution_count": 61,
     "metadata": {},
     "output_type": "execute_result"
    }
   ],
   "source": [
    "drain_trimmed = drain[Desired_columns].copy()\n",
    "drain_trimmed"
   ]
  },
  {
   "cell_type": "markdown",
   "id": "5c5aac48-f881-4c6e-9740-92f875c65646",
   "metadata": {},
   "source": [
    "Lastly, this is the cleaned and trimmed dataframe we can use to determine if any drains require maintenance, the slope of a drain and the watershed."
   ]
  },
  {
   "cell_type": "code",
   "execution_count": 63,
   "id": "742fa128-8e99-4e26-bb64-bae8cdee38bc",
   "metadata": {},
   "outputs": [
    {
     "data": {
      "text/plain": [
       "<AxesSubplot:>"
      ]
     },
     "execution_count": 63,
     "metadata": {},
     "output_type": "execute_result"
    },
    {
     "data": {
      "image/png": "[encoded data removed]",
      "text/plain": [
       "<Figure size 432x288 with 1 Axes>"
      ]
     },
     "metadata": {
      "needs_background": "light"
     },
     "output_type": "display_data"
    }
   ],
   "source": [
    "drain_trimmed.plot()"
   ]
  },
  {
   "cell_type": "markdown",
   "id": "d1c037b5-0c08-483b-8dae-c1b1ec7e4eb9",
   "metadata": {},
   "source": [
    "This is a graph of the trimmed data."
   ]
  }
 ],
 "metadata": {
  "kernelspec": {
   "display_name": "Python 3 (ipykernel)",
   "language": "python",
   "name": "python3"
  },
  "language_info": {
   "codemirror_mode": {
    "name": "ipython",
    "version": 3
   },
   "file_extension": ".py",
   "mimetype": "text/x-python",
   "name": "python",
   "nbconvert_exporter": "python",
   "pygments_lexer": "ipython3",
   "version": "3.9.6"
  }
 },
 "nbformat": 4,
 "nbformat_minor": 5
}
